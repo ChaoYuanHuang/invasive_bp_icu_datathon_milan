{
 "cells": [
  {
   "cell_type": "code",
   "execution_count": 0,
   "metadata": {
    "colab": {},
    "colab_type": "code",
    "id": "0v6SfG09v-XK"
   },
   "outputs": [],
   "source": [
    "# Import libraries\n",
    "import numpy as np\n",
    "import os\n",
    "import pandas as pd\n",
    "import matplotlib.pyplot as plt\n",
    "import matplotlib.patches as patches\n",
    "import matplotlib.path as path\n",
    "\n",
    "# Below imports are used to print out pretty pandas dataframes\n",
    "from IPython.display import display, HTML\n",
    "\n",
    "# Imports for accessing Datathon data using Google BigQuery.\n",
    "from google.colab import auth\n",
    "from google.cloud import bigquery\n",
    "\n",
    "# !pip install shap\n",
    "# !pip install lightgbm\n",
    "\n",
    "# Modelling utils\n",
    "from sklearn.ensemble import GradientBoostingRegressor as GBR, RandomForestRegressor as RFR\n",
    "from sklearn.linear_model import LinearRegression as LR\n",
    "from sklearn.datasets import make_classification, make_blobs, load_boston, fetch_california_housing\n",
    "from sklearn.model_selection import ShuffleSplit, train_test_split, GridSearchCV\n",
    "from sklearn.feature_selection import SelectKBest\n",
    "from sklearn.pipeline import Pipeline\n",
    "from sklearn.preprocessing import PolynomialFeatures, StandardScaler, OneHotEncoder, MinMaxScaler\n",
    "from sklearn.impute import SimpleImputer\n",
    "import xgboost\n",
    "from xgboost import XGBRegressor as XGB\n",
    "from lightgbm import LGBMRegressor as LGBM\n",
    "\n"
   ]
  },
  {
   "cell_type": "markdown",
   "metadata": {
    "colab_type": "text",
    "id": "KokaGnoxM_Hs"
   },
   "source": [
    "# Read data"
   ]
  },
  {
   "cell_type": "code",
   "execution_count": 0,
   "metadata": {
    "colab": {},
    "colab_type": "code",
    "id": "bsJjdv7ZwEg6"
   },
   "outputs": [],
   "source": [
    "from google.colab import drive\n",
    "drive.mount('/content/gdrive')\n",
    "\n",
    "df = pd.read_csv(os.path.join(os.getcwd(),'gdrive/My Drive/Colab Notebooks/dfmodel_with_signals.csv'))\n",
    "\n",
    "df = df.rename(columns={'icustay_id': 'id'})"
   ]
  },
  {
   "cell_type": "markdown",
   "metadata": {
    "colab_type": "text",
    "id": "HwCtNa2jNKXR"
   },
   "source": [
    "# Plot BP histograms"
   ]
  },
  {
   "cell_type": "code",
   "execution_count": 0,
   "metadata": {
    "colab": {
     "base_uri": "https://localhost:8080/",
     "height": 725
    },
    "colab_type": "code",
    "executionInfo": {
     "elapsed": 1812,
     "status": "ok",
     "timestamp": 1549194166995,
     "user": {
      "displayName": "Daan de Bruin",
      "photoUrl": "https://lh5.googleusercontent.com/-gTZHX6TeHlg/AAAAAAAAAAI/AAAAAAAAADQ/7PS-Vofr7ws/s64/photo.jpg",
      "userId": "03877015944764792014"
     },
     "user_tz": -60
    },
    "id": "TO3lplgxv0da",
    "outputId": "0707a396-57cb-468a-bce4-eacaace8548b"
   },
   "outputs": [
    {
     "name": "stdout",
     "output_type": "stream",
     "text": [
      "20\n"
     ]
    },
    {
     "data": {
      "image/png": "[encoded data removed]",
      "text/plain": [
       "<Figure size 576x396 with 1 Axes>"
      ]
     },
     "metadata": {
      "tags": []
     },
     "output_type": "display_data"
    },
    {
     "data": {
      "image/png": "[encoded data removed]",
      "text/plain": [
       "<Figure size 576x396 with 1 Axes>"
      ]
     },
     "metadata": {
      "tags": []
     },
     "output_type": "display_data"
    }
   ],
   "source": [
    "# Femoral\n",
    "df_model = df[df['femoral_yn']==1]\n",
    "\n",
    "np.minimum(df_model['ninv_value'], 200).hist(bins = 100, alpha = 0.5, label = 'non invasive')\n",
    "\n",
    "np.minimum(df_model['invasive_value'], 200).hist(bins = 100, color = 'orange', alpha = 0.5, label = 'invasive')\n",
    "\n",
    "plt.title('Non Invasive and Invasive Bloodpressure (femoral)')\n",
    "plt.legend(loc = 'upper left')\n",
    "plt.show()\n",
    "\n",
    "# Radial\n",
    "np.minimum(df_model['ninv_value'], 200).hist(bins = 100, alpha = 0.5, label = 'non invasive')\n",
    "\n",
    "np.minimum(df_model['invasive_value'], 200).hist(bins = 100, color = 'orange', alpha = 0.5, label = 'invasive')\n",
    "\n",
    "plt.title('Non Invasive and Invasive Bloodpressure (femoral)')\n",
    "plt.legend(loc = 'upper left')\n",
    "plt.show()"
   ]
  },
  {
   "cell_type": "markdown",
   "metadata": {
    "colab_type": "text",
    "id": "WvuAvgqvNZbm"
   },
   "source": [
    "# Radial vs Femoral"
   ]
  },
  {
   "cell_type": "code",
   "execution_count": 0,
   "metadata": {
    "colab": {
     "base_uri": "https://localhost:8080/",
     "height": 35
    },
    "colab_type": "code",
    "executionInfo": {
     "elapsed": 1651,
     "status": "ok",
     "timestamp": 1549194166997,
     "user": {
      "displayName": "Daan de Bruin",
      "photoUrl": "https://lh5.googleusercontent.com/-gTZHX6TeHlg/AAAAAAAAAAI/AAAAAAAAADQ/7PS-Vofr7ws/s64/photo.jpg",
      "userId": "03877015944764792014"
     },
     "user_tz": -60
    },
    "id": "G_MkJU5kwFyV",
    "outputId": "c638e374-7040-43dd-9c06-6542637cc67a"
   },
   "outputs": [
    {
     "name": "stdout",
     "output_type": "stream",
     "text": [
      "20\n"
     ]
    }
   ],
   "source": [
    "df_plot = df_model[df_model['invasive_value'].between(20, 140)]\n",
    "df_plot = df_plot[df_plot['ninv_value'].between(20, 140)]\n",
    "df_plot = df_plot.drop_duplicates(subset = ['icustay_id'], keep = 'first')\n",
    "\n",
    "df_femeralis = df_plot.loc[df_plot['femoral_yn']==1, ['invasive_value','ninv_value']]\n",
    "df_radialis = df_plot.loc[df_plot['femoral_yn']==1, ['invasive_value','ninv_value']]\n",
    "\n",
    "df_femeralis = df_femeralis.groupby('ninv_value')['invasive_value'].agg(['mean', 'std'])\n",
    "df_radialis = df_radialis.groupby('ninv_value')['invasive_value'].agg(['mean', 'std'])\n"
   ]
  },
  {
   "cell_type": "code",
   "execution_count": null,
   "metadata": {
    "colab": {
     "base_uri": "https://localhost:8080/",
     "height": 433
    },
    "colab_type": "code",
    "executionInfo": {
     "elapsed": 838,
     "status": "ok",
     "timestamp": 1549194380033,
     "user": {
      "displayName": "Daan de Bruin",
      "photoUrl": "https://lh5.googleusercontent.com/-gTZHX6TeHlg/AAAAAAAAAAI/AAAAAAAAADQ/7PS-Vofr7ws/s64/photo.jpg",
      "userId": "03877015944764792014"
     },
     "user_tz": -60
    },
    "id": "9Vx8V6dTwoZa",
    "outputId": "26b96d23-106e-4285-de7f-4444c8cac380"
   },
   "outputs": [],
   "source": [
    "def calculate_pred(x, params):\n",
    "  return params[3] + params[2] * x + params[1] * x*x + params[0] * x*x*x\n",
    "\n",
    "xlabel = 'ninv_value'\n",
    "ylabel = 'invasive_value'\n",
    "df = pd.read_csv(os.path.join(os.getcwd(),'gdrive/My Drive/Colab Notebooks/dfmodel_with_signals.csv'))\n",
    "\n",
    "\n",
    "df_model = df[df['femoral_yn']==1]\n",
    "df_model = df_model[df_model['invasive_value'].between(0, 140)]\n",
    "df_model = df_model[df_model['ninv_value'].between(0, 140)]\n",
    "df_model = df_model.drop_duplicates(subset = ['icustay_id'], keep = 'first')\n",
    "x = df_model[xlabel]\n",
    "y = df_model[ylabel]\n",
    "\n",
    "params_femoral = np.polyfit(x, y, deg=3, rcond=None, full=False, w=None, cov=False)\n",
    "\n",
    "df_model = df[df['radial_yn']==1]\n",
    "df_model = df_model[df_model['invasive_value'].between(0, 140)]\n",
    "df_model = df_model[df_model['ninv_value'].between(0, 140)]\n",
    "df_model = df_model.drop_duplicates(subset = ['icustay_id'], keep = 'first')\n",
    "x = df_model[xlabel]\n",
    "y = df_model[ylabel]\n",
    "\n",
    "params_radial = np.polyfit(x, y, deg=3, rcond=None, full=False, w=None, cov=False)\n",
    "\n",
    "df_model = df[df['ninv_value'].between(10,150)].copy()\n",
    "\n",
    "df_model1 = np.round(df_model[['ninv_value']]).drop_duplicates()\n",
    "df_model1['pred_radial'] = df_model1['ninv_value'].apply(lambda x: calculate_pred(x, params_radial))\n",
    "df_model1['pred_femoral'] = df_model1['ninv_value'].apply(lambda x: calculate_pred(x, params_femoral))\n",
    "\n",
    "df_model1 = df_model1.sort_values('pred_radial')\n",
    "x = df_model1['pred_radial']\n",
    "y = df_model1['pred_femoral']\n",
    "\n",
    "plt.plot(x,y, '-')\n",
    "plt.gca().set_xlabel('Radial')\n",
    "plt.gca().set_ylabel('Femoral')\n",
    "plt.show()\n",
    "\n"
   ]
  },
  {
   "cell_type": "code",
   "execution_count": 0,
   "metadata": {
    "colab": {},
    "colab_type": "code",
    "id": "Vi1LYO-XKFXu"
   },
   "outputs": [],
   "source": []
  }
 ],
 "metadata": {
  "colab": {
   "collapsed_sections": [],
   "name": "data_analysis.ipynb",
   "provenance": [
    {
     "file_id": "1SioYeD1S7-vZ1JOIpKgUP5qcfYcbeAHk",
     "timestamp": 1549194714816
    }
   ],
   "version": "0.3.2"
  },
  "kernelspec": {
   "display_name": "Python 3",
   "language": "python",
   "name": "python3"
  },
  "language_info": {
   "codemirror_mode": {
    "name": "ipython",
    "version": 3
   },
   "file_extension": ".py",
   "mimetype": "text/x-python",
   "name": "python",
   "nbconvert_exporter": "python",
   "pygments_lexer": "ipython3",
   "version": "3.6.6"
  },
  "toc": {
   "base_numbering": 1,
   "nav_menu": {},
   "number_sections": true,
   "sideBar": true,
   "skip_h1_title": false,
   "title_cell": "Table of Contents",
   "title_sidebar": "Contents",
   "toc_cell": false,
   "toc_position": {},
   "toc_section_display": true,
   "toc_window_display": false
  }
 },
 "nbformat": 4,
 "nbformat_minor": 1
}
